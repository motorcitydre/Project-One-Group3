{
 "cells": [
  {
   "cell_type": "code",
   "execution_count": null,
   "metadata": {},
   "outputs": [],
   "source": [
    "%matplotlib notebook\n"
   ]
  },
  {
   "cell_type": "code",
   "execution_count": null,
   "metadata": {},
   "outputs": [],
   "source": [
    "# Dependencies\n",
    "import os\n",
    "import csv\n",
    "import pandas as pd\n",
    "import numpy as np\n",
    "import matplotlib.pyplot as plt \n",
    "from scipy import stats\n",
    "%matplotlib inline"
   ]
  },
  {
   "cell_type": "code",
   "execution_count": null,
   "metadata": {
    "scrolled": false
   },
   "outputs": [],
   "source": [
    "# Reference the file where the CSV is located\n",
    " \n",
    "nyc_airbnb_data = \"Resources/AB_NYC_2019.csv\"\n",
    "\n",
    "# Import data into Pandas DataFrame\n",
    "\n",
    "nyc_airbnb_df = pd.read_csv(nyc_airbnb_data)\n",
    "nyc_airbnb_df.head()"
   ]
  },
  {
   "cell_type": "code",
   "execution_count": null,
   "metadata": {},
   "outputs": [],
   "source": [
    "# Remove unecessary columns from the DataFrame and save the new DataFrame\n",
    "# Only keep: \"host_id\", \"neighbourhood_group\", \"neighbourhood\", \"latitude\",\n",
    "#\"longitude\", \"room_type\", \"price\", \"minimum_nights\", \"number_of_reviews\", \n",
    "#\"calculated_host_listings_count\", \"availability_365\"\n",
    "\n",
    "reduced_nyc_airbnb_df = nyc_airbnb_df[[\"host_id\", \"neighbourhood_group\", \"neighbourhood\", \"latitude\",\n",
    "\"longitude\", \"room_type\", \"price\", \"minimum_nights\", \"number_of_reviews\", \n",
    "\"calculated_host_listings_count\", \"availability_365\"]]\n",
    "\n",
    "reduced_nyc_airbnb_df.head()\n",
    "                        \n"
   ]
  },
  {
   "cell_type": "code",
   "execution_count": null,
   "metadata": {},
   "outputs": [],
   "source": [
    "# Rename neighbourhood_group in reduced_nyc_airbnb_df as borough\n",
    "reduced_nyc_airbnb_df = reduced_nyc_airbnb_df.rename(columns={\"host_id\": \"Host ID\", \"neighbourhood_group\": \"Borough\", \n",
    "                    \"neighbourhood\": \"Neighbourhood\", \"latitude\": \"Latitude\",\"longitude\": \"Longitude\", \"room_type\": \"Room Type\", \"price\": \"Price\", \"minimum_nights\": \"Minimum Nights\",\n",
    "                    \"number_of_reviews\": \"Total Reviews\", \"calculated_host_listings_count\": \"Total Host Listings\", \n",
    "                    \"availability_365\": \"Yearly Availability\"})\n",
    "reduced_nyc_airbnb_df.head()"
   ]
  },
  {
   "cell_type": "code",
   "execution_count": null,
   "metadata": {},
   "outputs": [],
   "source": [
    "# Calculate total number of boroughs\n",
    "total_boroughs = len(reduced_nyc_airbnb_df['Borough'].value_counts())\n",
    "total_boroughs"
   ]
  },
  {
   "cell_type": "code",
   "execution_count": null,
   "metadata": {},
   "outputs": [],
   "source": [
    "# Average price for all Airbnb in NYC boroughs\n",
    "avg_airbnb_price = reduced_nyc_airbnb_df[\"Price\"].mean()\n",
    "avg_airbnb_price"
   ]
  },
  {
   "cell_type": "code",
   "execution_count": null,
   "metadata": {},
   "outputs": [],
   "source": [
    "# Average price for each borough\n",
    "avg_borough_price = reduced_nyc_airbnb_df.groupby(['Borough'])['Price'].mean().reset_index()\n",
    "avg_borough_price"
   ]
  },
  {
   "cell_type": "code",
   "execution_count": null,
   "metadata": {
    "scrolled": true
   },
   "outputs": [],
   "source": [
    "# Calculate total borough listings\n",
    "borough_listings_total = reduced_nyc_airbnb_df.groupby(['Borough'])['Total Host Listings'].count().reset_index()\n",
    "borough_listings_total"
   ]
  },
  {
   "cell_type": "code",
   "execution_count": null,
   "metadata": {},
   "outputs": [],
   "source": [
    "# Plot data\n",
    "\n",
    "avg_borough_price_sorted = avg_borough_price.sort_values(\"Price\")\n",
    "\n",
    "fig, ax = plt.subplots()\n",
    "\n",
    "fig.suptitle(\"New York Airbnb\", fontsize=16, fontweight=\"bold\")\n",
    "\n",
    "# ax.set_xlim(0, 10)\n",
    "# ax.set_ylim(0, 10)\n",
    "\n",
    "ax.set_xlabel(\"Borough\")\n",
    "ax.set_ylabel(\"Price\")\n",
    "\n",
    "ax.plot(avg_borough_price_sorted[\"Borough\"], avg_borough_price_sorted[\"Price\"], linewidth=0, marker='o')\n",
    "\n",
    "plt.savefig(\"Images/New York Airbnb\")\n",
    "\n",
    "plt.show()"
   ]
  },
  {
   "cell_type": "code",
   "execution_count": null,
   "metadata": {},
   "outputs": [],
   "source": [
    "borough_listings_total.head()"
   ]
  },
  {
   "cell_type": "code",
   "execution_count": null,
   "metadata": {},
   "outputs": [],
   "source": [
    "# Plot data\n",
    "\n",
    "borough_listings_total_sorted = borough_listings_total.sort_values(\"Total Host Listings\")\n",
    "\n",
    "fig, ax = plt.subplots()\n",
    "\n",
    "fig.suptitle(\"New York Airbnb\", fontsize=16, fontweight=\"bold\")\n",
    "\n",
    "ax.set_xlabel(\"Borough\")\n",
    "ax.set_ylabel(\"Total Host Listing\")\n",
    "\n",
    "ax.plot(borough_listings_total_sorted[\"Borough\"],borough_listings_total_sorted[\"Total Host Listings\"], linewidth=0, marker='o')\n",
    "\n",
    "plt.savefig(\"Images/New York Airbnb_Listings\")\n",
    "\n",
    "plt.show()"
   ]
  },
  {
   "cell_type": "code",
   "execution_count": null,
   "metadata": {},
   "outputs": [],
   "source": [
    "# Plot sample means with error bars\n",
    "tick_labels = [\"Borough\", \"Total Host Listing\"]\n",
    "\n",
    "means = [borough_listings_total.mean().values[0]]\n",
    "x_axis = np.arange(0, len(means))\n",
    "sem = [borough_listings_total.sem().values[0]]"
   ]
  },
  {
   "cell_type": "code",
   "execution_count": null,
   "metadata": {},
   "outputs": [],
   "source": [
    "# Plot mean height of players\n",
    "fig, ax = plt.subplots()\n",
    "\n",
    "fig.suptitle(\"New York AirBnb Demand\",\n",
    "             fontsize=12, fontweight=\"bold\")\n",
    "\n",
    "ax.errorbar(x_axis, means, yerr=sem, fmt=\"o\")\n",
    "\n",
    "ax.set_xlim(-0.5, 1.5)\n",
    "ax.set_ylim(350, 23000)\n",
    "\n",
    "ax.set_xticklabels(tick_labels)\n",
    "ax.set_xticks([0, 1])\n",
    "\n",
    "ax.set_ylabel(\"Demand Average\")\n",
    "\n",
    "plt.savefig(\"Images/New York Airbnb Demand\")\n",
    "\n",
    "plt.show()"
   ]
  },
  {
   "cell_type": "code",
   "execution_count": null,
   "metadata": {},
   "outputs": [],
   "source": [
    "# Create a group based on the values in the 'borough' column\n",
    "avg_borough_price = reduced_nyc_airbnb_df.groupby('Borough')\n",
    "\n",
    "# Count how many times each maker appears in our group\n",
    "total_boroughs = borough_listings_total['Borough'].count()\n",
    "\n",
    "total_boroughs"
   ]
  },
  {
   "cell_type": "code",
   "execution_count": null,
   "metadata": {},
   "outputs": [],
   "source": [
    "avg_borough_price.plot(x='Borough', y=\"Price\")\n",
    "\n",
    "plt.savefig(\"Images/Boroughs\")\n"
   ]
  }
 ],
 "metadata": {
  "kernelspec": {
   "display_name": "Python 3",
   "language": "python",
   "name": "python3"
  },
  "language_info": {
   "codemirror_mode": {
    "name": "ipython",
    "version": 3
   },
   "file_extension": ".py",
   "mimetype": "text/x-python",
   "name": "python",
   "nbconvert_exporter": "python",
   "pygments_lexer": "ipython3",
   "version": "3.6.9"
  }
 },
 "nbformat": 4,
 "nbformat_minor": 2
}
